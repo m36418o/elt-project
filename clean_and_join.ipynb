{
 "metadata": {
  "language_info": {
   "codemirror_mode": {
    "name": "ipython",
    "version": 3
   },
   "file_extension": ".py",
   "mimetype": "text/x-python",
   "name": "python",
   "nbconvert_exporter": "python",
   "pygments_lexer": "ipython3",
   "version": "3.7.9"
  },
  "orig_nbformat": 2,
  "kernelspec": {
   "name": "python379jvsc74a57bd03caff1f6fb90138d0919c9d826d38659908ba61fc9999fc75443d91f43160cd9",
   "display_name": "Python 3.7.9 64-bit ('PythonData': conda)"
  }
 },
 "nbformat": 4,
 "nbformat_minor": 2,
 "cells": [
  {
   "cell_type": "code",
   "execution_count": 1,
   "metadata": {},
   "outputs": [],
   "source": [
    "# import dependencies\n",
    "import pandas as pd"
   ]
  },
  {
   "cell_type": "code",
   "execution_count": 24,
   "metadata": {},
   "outputs": [
    {
     "output_type": "execute_result",
     "data": {
      "text/plain": [
       "   Rank                       Name             Genre ESRB_Rating Platform  \\\n",
       "0    21         Grand Theft Auto V            Action           M      PS4   \n",
       "1    35  Call of Duty: Black Ops 3           Shooter           M      PS4   \n",
       "2    46      Red Dead Redemption 2  Action-Adventure           M      PS4   \n",
       "3    51         Call of Duty: WWII           Shooter           M      PS4   \n",
       "4    69                    FIFA 18            Sports           E      PS4   \n",
       "\n",
       "        Publisher           Developer  Critic_Score  Global_Sales    Year  \n",
       "0  Rockstar Games      Rockstar North           9.7         19.39  2014.0  \n",
       "1      Activision            Treyarch           NaN         15.09  2015.0  \n",
       "2  Rockstar Games      Rockstar Games           9.8         13.94  2018.0  \n",
       "3      Activision  Sledgehammer Games           8.0         13.40  2017.0  \n",
       "4       EA Sports        EA Vancouver           8.3         11.80  2017.0  "
      ],
      "text/html": "<div>\n<style scoped>\n    .dataframe tbody tr th:only-of-type {\n        vertical-align: middle;\n    }\n\n    .dataframe tbody tr th {\n        vertical-align: top;\n    }\n\n    .dataframe thead th {\n        text-align: right;\n    }\n</style>\n<table border=\"1\" class=\"dataframe\">\n  <thead>\n    <tr style=\"text-align: right;\">\n      <th></th>\n      <th>Rank</th>\n      <th>Name</th>\n      <th>Genre</th>\n      <th>ESRB_Rating</th>\n      <th>Platform</th>\n      <th>Publisher</th>\n      <th>Developer</th>\n      <th>Critic_Score</th>\n      <th>Global_Sales</th>\n      <th>Year</th>\n    </tr>\n  </thead>\n  <tbody>\n    <tr>\n      <th>0</th>\n      <td>21</td>\n      <td>Grand Theft Auto V</td>\n      <td>Action</td>\n      <td>M</td>\n      <td>PS4</td>\n      <td>Rockstar Games</td>\n      <td>Rockstar North</td>\n      <td>9.7</td>\n      <td>19.39</td>\n      <td>2014.0</td>\n    </tr>\n    <tr>\n      <th>1</th>\n      <td>35</td>\n      <td>Call of Duty: Black Ops 3</td>\n      <td>Shooter</td>\n      <td>M</td>\n      <td>PS4</td>\n      <td>Activision</td>\n      <td>Treyarch</td>\n      <td>NaN</td>\n      <td>15.09</td>\n      <td>2015.0</td>\n    </tr>\n    <tr>\n      <th>2</th>\n      <td>46</td>\n      <td>Red Dead Redemption 2</td>\n      <td>Action-Adventure</td>\n      <td>M</td>\n      <td>PS4</td>\n      <td>Rockstar Games</td>\n      <td>Rockstar Games</td>\n      <td>9.8</td>\n      <td>13.94</td>\n      <td>2018.0</td>\n    </tr>\n    <tr>\n      <th>3</th>\n      <td>51</td>\n      <td>Call of Duty: WWII</td>\n      <td>Shooter</td>\n      <td>M</td>\n      <td>PS4</td>\n      <td>Activision</td>\n      <td>Sledgehammer Games</td>\n      <td>8.0</td>\n      <td>13.40</td>\n      <td>2017.0</td>\n    </tr>\n    <tr>\n      <th>4</th>\n      <td>69</td>\n      <td>FIFA 18</td>\n      <td>Sports</td>\n      <td>E</td>\n      <td>PS4</td>\n      <td>EA Sports</td>\n      <td>EA Vancouver</td>\n      <td>8.3</td>\n      <td>11.80</td>\n      <td>2017.0</td>\n    </tr>\n  </tbody>\n</table>\n</div>"
     },
     "metadata": {},
     "execution_count": 24
    }
   ],
   "source": [
    "# load in .csv files as data frames for cleaning and joining\n",
    "ps4_sales_df = pd.read_csv(\"data_files/ps4_sales.csv\")\n",
    "ps4_prices_df = pd.read_csv(\"data_files/ps4_prices.csv\", encoding='cp1252')\n",
    "xbo_sales_df = pd.read_csv(\"data_files/xboxone_sales.csv\")\n",
    "xbo_prices_df = pd.read_csv(\"data_files/xboxone_prices.csv\", encoding='cp1252')\n",
    "ps4_sales_df.head()"
   ]
  },
  {
   "cell_type": "code",
   "execution_count": 25,
   "metadata": {},
   "outputs": [],
   "source": [
    "# joining data frame into one\n",
    "for name in ps4_sales_df[\"Name\"].values:\n",
    "    try:\n",
    "        if name in xbo_sales_df[\"Name\"].values:\n",
    "            ps4_sales_df.loc[ps4_sales_df[\"Name\"] == name, \"Global_Sales\"] = ps4_sales_df.loc[ps4_sales_df[\"Name\"] == name, \"Global_Sales\"].values + xbo_sales_df.loc[xbo_sales_df[\"Name\"] == name, \"Global_Sales\"].values\n",
    "    except (KeyError, IndexError, ValueError):\n",
    "        break"
   ]
  },
  {
   "cell_type": "code",
   "execution_count": 26,
   "metadata": {},
   "outputs": [
    {
     "output_type": "execute_result",
     "data": {
      "text/plain": [
       "      Rank                                            Name             Genre  \\\n",
       "0       21                              Grand Theft Auto V            Action   \n",
       "1       35                       Call of Duty: Black Ops 3           Shooter   \n",
       "2       46                           Red Dead Redemption 2  Action-Adventure   \n",
       "3       51                              Call of Duty: WWII           Shooter   \n",
       "4       69                                         FIFA 18            Sports   \n",
       "..     ...                                             ...               ...   \n",
       "935  19794            Saiaku Naru Saiyaku Ningen ni Sasagu      Visual Novel   \n",
       "936  19814                  Mega Man X Legacy Collection 2          Platform   \n",
       "937  19825  Happy Manager: Shiawase Zhuang no Kanrinin San        Simulation   \n",
       "938  19841                                    RPG Maker MV              Misc   \n",
       "939  19846                                  Super Meat Boy          Platform   \n",
       "\n",
       "    ESRB_Rating Platform       Publisher           Developer  Critic_Score  \\\n",
       "0             M      PS4  Rockstar Games      Rockstar North           9.7   \n",
       "1             M      PS4      Activision            Treyarch           NaN   \n",
       "2             M      PS4  Rockstar Games      Rockstar Games           9.8   \n",
       "3             M      PS4      Activision  Sledgehammer Games           8.0   \n",
       "4             E      PS4       EA Sports        EA Vancouver           8.3   \n",
       "..          ...      ...             ...                 ...           ...   \n",
       "935         NaN      PS4           Kemco               Kemco           NaN   \n",
       "936         NaN      PS4          Capcom              Capcom           NaN   \n",
       "937         NaN      PS4    D3 Publisher        D3 Publisher           NaN   \n",
       "938         E10      PS4     NIS America      Kadokawa Games           NaN   \n",
       "939         NaN      PS4       Team Meat           Team Meat           NaN   \n",
       "\n",
       "     Global_Sales    Year  \n",
       "0           28.11  2014.0  \n",
       "1           22.46  2015.0  \n",
       "2           19.71  2018.0  \n",
       "3           19.63  2017.0  \n",
       "4           14.94  2017.0  \n",
       "..            ...     ...  \n",
       "935          0.01  2018.0  \n",
       "936          0.01  2018.0  \n",
       "937          0.01  2018.0  \n",
       "938          0.01  2019.0  \n",
       "939          0.01  2016.0  \n",
       "\n",
       "[914 rows x 10 columns]"
      ],
      "text/html": "<div>\n<style scoped>\n    .dataframe tbody tr th:only-of-type {\n        vertical-align: middle;\n    }\n\n    .dataframe tbody tr th {\n        vertical-align: top;\n    }\n\n    .dataframe thead th {\n        text-align: right;\n    }\n</style>\n<table border=\"1\" class=\"dataframe\">\n  <thead>\n    <tr style=\"text-align: right;\">\n      <th></th>\n      <th>Rank</th>\n      <th>Name</th>\n      <th>Genre</th>\n      <th>ESRB_Rating</th>\n      <th>Platform</th>\n      <th>Publisher</th>\n      <th>Developer</th>\n      <th>Critic_Score</th>\n      <th>Global_Sales</th>\n      <th>Year</th>\n    </tr>\n  </thead>\n  <tbody>\n    <tr>\n      <th>0</th>\n      <td>21</td>\n      <td>Grand Theft Auto V</td>\n      <td>Action</td>\n      <td>M</td>\n      <td>PS4</td>\n      <td>Rockstar Games</td>\n      <td>Rockstar North</td>\n      <td>9.7</td>\n      <td>28.11</td>\n      <td>2014.0</td>\n    </tr>\n    <tr>\n      <th>1</th>\n      <td>35</td>\n      <td>Call of Duty: Black Ops 3</td>\n      <td>Shooter</td>\n      <td>M</td>\n      <td>PS4</td>\n      <td>Activision</td>\n      <td>Treyarch</td>\n      <td>NaN</td>\n      <td>22.46</td>\n      <td>2015.0</td>\n    </tr>\n    <tr>\n      <th>2</th>\n      <td>46</td>\n      <td>Red Dead Redemption 2</td>\n      <td>Action-Adventure</td>\n      <td>M</td>\n      <td>PS4</td>\n      <td>Rockstar Games</td>\n      <td>Rockstar Games</td>\n      <td>9.8</td>\n      <td>19.71</td>\n      <td>2018.0</td>\n    </tr>\n    <tr>\n      <th>3</th>\n      <td>51</td>\n      <td>Call of Duty: WWII</td>\n      <td>Shooter</td>\n      <td>M</td>\n      <td>PS4</td>\n      <td>Activision</td>\n      <td>Sledgehammer Games</td>\n      <td>8.0</td>\n      <td>19.63</td>\n      <td>2017.0</td>\n    </tr>\n    <tr>\n      <th>4</th>\n      <td>69</td>\n      <td>FIFA 18</td>\n      <td>Sports</td>\n      <td>E</td>\n      <td>PS4</td>\n      <td>EA Sports</td>\n      <td>EA Vancouver</td>\n      <td>8.3</td>\n      <td>14.94</td>\n      <td>2017.0</td>\n    </tr>\n    <tr>\n      <th>...</th>\n      <td>...</td>\n      <td>...</td>\n      <td>...</td>\n      <td>...</td>\n      <td>...</td>\n      <td>...</td>\n      <td>...</td>\n      <td>...</td>\n      <td>...</td>\n      <td>...</td>\n    </tr>\n    <tr>\n      <th>935</th>\n      <td>19794</td>\n      <td>Saiaku Naru Saiyaku Ningen ni Sasagu</td>\n      <td>Visual Novel</td>\n      <td>NaN</td>\n      <td>PS4</td>\n      <td>Kemco</td>\n      <td>Kemco</td>\n      <td>NaN</td>\n      <td>0.01</td>\n      <td>2018.0</td>\n    </tr>\n    <tr>\n      <th>936</th>\n      <td>19814</td>\n      <td>Mega Man X Legacy Collection 2</td>\n      <td>Platform</td>\n      <td>NaN</td>\n      <td>PS4</td>\n      <td>Capcom</td>\n      <td>Capcom</td>\n      <td>NaN</td>\n      <td>0.01</td>\n      <td>2018.0</td>\n    </tr>\n    <tr>\n      <th>937</th>\n      <td>19825</td>\n      <td>Happy Manager: Shiawase Zhuang no Kanrinin San</td>\n      <td>Simulation</td>\n      <td>NaN</td>\n      <td>PS4</td>\n      <td>D3 Publisher</td>\n      <td>D3 Publisher</td>\n      <td>NaN</td>\n      <td>0.01</td>\n      <td>2018.0</td>\n    </tr>\n    <tr>\n      <th>938</th>\n      <td>19841</td>\n      <td>RPG Maker MV</td>\n      <td>Misc</td>\n      <td>E10</td>\n      <td>PS4</td>\n      <td>NIS America</td>\n      <td>Kadokawa Games</td>\n      <td>NaN</td>\n      <td>0.01</td>\n      <td>2019.0</td>\n    </tr>\n    <tr>\n      <th>939</th>\n      <td>19846</td>\n      <td>Super Meat Boy</td>\n      <td>Platform</td>\n      <td>NaN</td>\n      <td>PS4</td>\n      <td>Team Meat</td>\n      <td>Team Meat</td>\n      <td>NaN</td>\n      <td>0.01</td>\n      <td>2016.0</td>\n    </tr>\n  </tbody>\n</table>\n<p>914 rows × 10 columns</p>\n</div>"
     },
     "metadata": {},
     "execution_count": 26
    }
   ],
   "source": [
    "# dropping rows containing NaN or 0 under Global Sales column\n",
    "ps4_sales_df.dropna(subset=[\"Global_Sales\"], inplace=True)\n",
    "ps4_sales_df = ps4_sales_df[ps4_sales_df.Global_Sales != 0]\n",
    "ps4_sales_df"
   ]
  },
  {
   "cell_type": "code",
   "execution_count": 221,
   "metadata": {},
   "outputs": [
    {
     "output_type": "execute_result",
     "data": {
      "text/plain": [
       "                               Title  New Price\n",
       "0                           Godzilla    308.870\n",
       "1  Playstation 4 500GB Black Console    305.000\n",
       "2                 Grand Theft Auto V     30.835\n",
       "3              Red Dead Redemption 2     41.475\n",
       "4                       Poop Slinger   2000.320"
      ],
      "text/html": "<div>\n<style scoped>\n    .dataframe tbody tr th:only-of-type {\n        vertical-align: middle;\n    }\n\n    .dataframe tbody tr th {\n        vertical-align: top;\n    }\n\n    .dataframe thead th {\n        text-align: right;\n    }\n</style>\n<table border=\"1\" class=\"dataframe\">\n  <thead>\n    <tr style=\"text-align: right;\">\n      <th></th>\n      <th>Title</th>\n      <th>New Price</th>\n    </tr>\n  </thead>\n  <tbody>\n    <tr>\n      <th>0</th>\n      <td>Godzilla</td>\n      <td>308.870</td>\n    </tr>\n    <tr>\n      <th>1</th>\n      <td>Playstation 4 500GB Black Console</td>\n      <td>305.000</td>\n    </tr>\n    <tr>\n      <th>2</th>\n      <td>Grand Theft Auto V</td>\n      <td>30.835</td>\n    </tr>\n    <tr>\n      <th>3</th>\n      <td>Red Dead Redemption 2</td>\n      <td>41.475</td>\n    </tr>\n    <tr>\n      <th>4</th>\n      <td>Poop Slinger</td>\n      <td>2000.320</td>\n    </tr>\n  </tbody>\n</table>\n</div>"
     },
     "metadata": {},
     "execution_count": 221
    }
   ],
   "source": [
    "# joining data frame into one\n",
    "for name in ps4_prices_df[\"Title\"].values:\n",
    "    if name in xbo_prices_df[\"Title\"].values:\n",
    "        ps4_prices_df.loc[ps4_prices_df[\"Title\"] == name, \"New Price\"] = ps4_prices_df.loc[ps4_prices_df[\"Title\"] == name, \"New Price\"].values + xbo_prices_df.loc[xbo_prices_df[\"Title\"] == name, \"New Price\"].values / 2\n",
    "\n",
    "ps4_prices_df.head()"
   ]
  },
  {
   "cell_type": "code",
   "execution_count": 222,
   "metadata": {},
   "outputs": [],
   "source": [
    "# extracting prices from the prices data frame\n",
    "prices = []\n",
    "for name in ps4_sales_df[\"Name\"].values:\n",
    "    if name in ps4_prices_df[\"Title\"].values:\n",
    "        prices.append(ps4_prices_df.loc[ps4_prices_df[\"Title\"] == name, \"New Price\"].values[0])\n",
    "    else:\n",
    "        prices.append(0)"
   ]
  },
  {
   "cell_type": "code",
   "execution_count": 226,
   "metadata": {
    "tags": []
   },
   "outputs": [
    {
     "output_type": "stream",
     "name": "stderr",
     "text": [
      "ipykernel_launcher:1: SettingWithCopyWarning: \nA value is trying to be set on a copy of a slice from a DataFrame.\nTry using .loc[row_indexer,col_indexer] = value instead\n\nSee the caveats in the documentation: https://pandas.pydata.org/pandas-docs/stable/user_guide/indexing.html#returning-a-view-versus-a-copy\n"
     ]
    },
    {
     "output_type": "execute_result",
     "data": {
      "text/plain": [
       "      Rank                            Name             Genre ESRB_Rating  \\\n",
       "0       21              Grand Theft Auto V            Action           M   \n",
       "2       46           Red Dead Redemption 2  Action-Adventure           M   \n",
       "4       69                         FIFA 18            Sports           E   \n",
       "5       77                         FIFA 17            Sports           E   \n",
       "8      101                         FIFA 19            Sports           E   \n",
       "..     ...                             ...               ...         ...   \n",
       "925  19567               Just Deal With It             Party         NaN   \n",
       "929  19721             Hyper Light Drifter      Role-Playing         NaN   \n",
       "931  19726                       Teslagrad          Platform         NaN   \n",
       "936  19814  Mega Man X Legacy Collection 2          Platform         NaN   \n",
       "938  19841                    RPG Maker MV              Misc         E10   \n",
       "\n",
       "    Platform          Publisher          Developer  Critic_Score  \\\n",
       "0        PS4     Rockstar Games     Rockstar North           9.7   \n",
       "2        PS4     Rockstar Games     Rockstar Games           9.8   \n",
       "4        PS4          EA Sports       EA Vancouver           8.3   \n",
       "5        PS4    Electronic Arts          EA Canada           8.9   \n",
       "8        PS4    Electronic Arts          EA Sports           NaN   \n",
       "..       ...                ...                ...           ...   \n",
       "925      PS4  Wired Productions  Wired Productions           NaN   \n",
       "929      PS4    Rebellion Games    Rebellion Games           NaN   \n",
       "931      PS4         Rain Games         Rain Games           NaN   \n",
       "936      PS4             Capcom             Capcom           NaN   \n",
       "938      PS4        NIS America     Kadokawa Games           NaN   \n",
       "\n",
       "     Global_Sales    Year  New Average Prices  \n",
       "0           28.11  2014.0              30.835  \n",
       "2           19.71  2018.0              41.475  \n",
       "4           14.94  2017.0               8.230  \n",
       "5           14.65  2016.0               7.645  \n",
       "8           11.37  2018.0              12.050  \n",
       "..            ...     ...                 ...  \n",
       "925          0.01  2018.0              11.930  \n",
       "929          0.01  2016.0              65.110  \n",
       "931          0.01  2014.0              19.530  \n",
       "936          0.01  2018.0              37.990  \n",
       "938          0.01  2019.0              35.880  \n",
       "\n",
       "[465 rows x 11 columns]"
      ],
      "text/html": "<div>\n<style scoped>\n    .dataframe tbody tr th:only-of-type {\n        vertical-align: middle;\n    }\n\n    .dataframe tbody tr th {\n        vertical-align: top;\n    }\n\n    .dataframe thead th {\n        text-align: right;\n    }\n</style>\n<table border=\"1\" class=\"dataframe\">\n  <thead>\n    <tr style=\"text-align: right;\">\n      <th></th>\n      <th>Rank</th>\n      <th>Name</th>\n      <th>Genre</th>\n      <th>ESRB_Rating</th>\n      <th>Platform</th>\n      <th>Publisher</th>\n      <th>Developer</th>\n      <th>Critic_Score</th>\n      <th>Global_Sales</th>\n      <th>Year</th>\n      <th>New Average Prices</th>\n    </tr>\n  </thead>\n  <tbody>\n    <tr>\n      <th>0</th>\n      <td>21</td>\n      <td>Grand Theft Auto V</td>\n      <td>Action</td>\n      <td>M</td>\n      <td>PS4</td>\n      <td>Rockstar Games</td>\n      <td>Rockstar North</td>\n      <td>9.7</td>\n      <td>28.11</td>\n      <td>2014.0</td>\n      <td>30.835</td>\n    </tr>\n    <tr>\n      <th>2</th>\n      <td>46</td>\n      <td>Red Dead Redemption 2</td>\n      <td>Action-Adventure</td>\n      <td>M</td>\n      <td>PS4</td>\n      <td>Rockstar Games</td>\n      <td>Rockstar Games</td>\n      <td>9.8</td>\n      <td>19.71</td>\n      <td>2018.0</td>\n      <td>41.475</td>\n    </tr>\n    <tr>\n      <th>4</th>\n      <td>69</td>\n      <td>FIFA 18</td>\n      <td>Sports</td>\n      <td>E</td>\n      <td>PS4</td>\n      <td>EA Sports</td>\n      <td>EA Vancouver</td>\n      <td>8.3</td>\n      <td>14.94</td>\n      <td>2017.0</td>\n      <td>8.230</td>\n    </tr>\n    <tr>\n      <th>5</th>\n      <td>77</td>\n      <td>FIFA 17</td>\n      <td>Sports</td>\n      <td>E</td>\n      <td>PS4</td>\n      <td>Electronic Arts</td>\n      <td>EA Canada</td>\n      <td>8.9</td>\n      <td>14.65</td>\n      <td>2016.0</td>\n      <td>7.645</td>\n    </tr>\n    <tr>\n      <th>8</th>\n      <td>101</td>\n      <td>FIFA 19</td>\n      <td>Sports</td>\n      <td>E</td>\n      <td>PS4</td>\n      <td>Electronic Arts</td>\n      <td>EA Sports</td>\n      <td>NaN</td>\n      <td>11.37</td>\n      <td>2018.0</td>\n      <td>12.050</td>\n    </tr>\n    <tr>\n      <th>...</th>\n      <td>...</td>\n      <td>...</td>\n      <td>...</td>\n      <td>...</td>\n      <td>...</td>\n      <td>...</td>\n      <td>...</td>\n      <td>...</td>\n      <td>...</td>\n      <td>...</td>\n      <td>...</td>\n    </tr>\n    <tr>\n      <th>925</th>\n      <td>19567</td>\n      <td>Just Deal With It</td>\n      <td>Party</td>\n      <td>NaN</td>\n      <td>PS4</td>\n      <td>Wired Productions</td>\n      <td>Wired Productions</td>\n      <td>NaN</td>\n      <td>0.01</td>\n      <td>2018.0</td>\n      <td>11.930</td>\n    </tr>\n    <tr>\n      <th>929</th>\n      <td>19721</td>\n      <td>Hyper Light Drifter</td>\n      <td>Role-Playing</td>\n      <td>NaN</td>\n      <td>PS4</td>\n      <td>Rebellion Games</td>\n      <td>Rebellion Games</td>\n      <td>NaN</td>\n      <td>0.01</td>\n      <td>2016.0</td>\n      <td>65.110</td>\n    </tr>\n    <tr>\n      <th>931</th>\n      <td>19726</td>\n      <td>Teslagrad</td>\n      <td>Platform</td>\n      <td>NaN</td>\n      <td>PS4</td>\n      <td>Rain Games</td>\n      <td>Rain Games</td>\n      <td>NaN</td>\n      <td>0.01</td>\n      <td>2014.0</td>\n      <td>19.530</td>\n    </tr>\n    <tr>\n      <th>936</th>\n      <td>19814</td>\n      <td>Mega Man X Legacy Collection 2</td>\n      <td>Platform</td>\n      <td>NaN</td>\n      <td>PS4</td>\n      <td>Capcom</td>\n      <td>Capcom</td>\n      <td>NaN</td>\n      <td>0.01</td>\n      <td>2018.0</td>\n      <td>37.990</td>\n    </tr>\n    <tr>\n      <th>938</th>\n      <td>19841</td>\n      <td>RPG Maker MV</td>\n      <td>Misc</td>\n      <td>E10</td>\n      <td>PS4</td>\n      <td>NIS America</td>\n      <td>Kadokawa Games</td>\n      <td>NaN</td>\n      <td>0.01</td>\n      <td>2019.0</td>\n      <td>35.880</td>\n    </tr>\n  </tbody>\n</table>\n<p>465 rows × 11 columns</p>\n</div>"
     },
     "metadata": {},
     "execution_count": 226
    }
   ],
   "source": [
    "# saving prices to corresponding titles\r\n",
    "ps4_sales_df[\"New Average Prices\"] = prices\r\n",
    "# saving rows with prices greater than 0 to another data frame\r\n",
    "cleaned_df = ps4_sales_df[ps4_sales_df[\"New Average Prices\"] > 0]\r\n",
    "cleaned_df"
   ]
  },
  {
   "cell_type": "code",
   "execution_count": 228,
   "metadata": {},
   "outputs": [],
   "source": [
    "# saving cleaned dataframe to csv for importing\n",
    "cleaned_df.to_csv(\"data_files/final_data.csv\", index=None)"
   ]
  },
  {
   "cell_type": "code",
   "execution_count": null,
   "metadata": {},
   "outputs": [],
   "source": []
  }
 ]
}