{
 "metadata": {
  "language_info": {
   "codemirror_mode": {
    "name": "ipython",
    "version": 3
   },
   "file_extension": ".py",
   "mimetype": "text/x-python",
   "name": "python",
   "nbconvert_exporter": "python",
   "pygments_lexer": "ipython3",
   "version": "3.7.9"
  },
  "orig_nbformat": 2,
  "kernelspec": {
   "name": "python379jvsc74a57bd03caff1f6fb90138d0919c9d826d38659908ba61fc9999fc75443d91f43160cd9",
   "display_name": "Python 3.7.9 64-bit ('PythonData': conda)"
  }
 },
 "nbformat": 4,
 "nbformat_minor": 2,
 "cells": [
  {
   "cell_type": "code",
   "execution_count": 1,
   "metadata": {},
   "outputs": [],
   "source": [
    "# Module used to connect Python with MongoDb\n",
    "import pymongo\n",
    "import pandas as pd\n",
    "# The default port used by MongoDB is 27017\n",
    "conn = \"mongodb://localhost:27017\"\n",
    "client = pymongo.MongoClient(conn)"
   ]
  },
  {
   "cell_type": "code",
   "execution_count": 2,
   "metadata": {
    "tags": []
   },
   "outputs": [
    {
     "output_type": "execute_result",
     "data": {
      "text/plain": [
       "<pymongo.results.InsertManyResult at 0x16c410b0188>"
      ]
     },
     "metadata": {},
     "execution_count": 2
    }
   ],
   "source": [
    "db = client[\"videoGames\"]\n",
    "# Creating a new collection with name \"videoGameSales\"\n",
    "collection_vg = db[\"videoGamesSales\"]\n",
    "\n",
    "def csv_to_json(filename, header = None):\n",
    "    data = pd.read_csv(filename, header=header)\n",
    "    return data.to_dict('records')\n",
    "\n",
    "collection_vg.insert_many(csv_to_json('data_files/final_data.csv', header = 0))"
   ]
  },
  {
   "cell_type": "code",
   "execution_count": null,
   "metadata": {},
   "outputs": [],
   "source": []
  }
 ]
}