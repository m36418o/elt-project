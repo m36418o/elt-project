{
 "metadata": {
  "language_info": {
   "codemirror_mode": {
    "name": "ipython",
    "version": 3
   },
   "file_extension": ".py",
   "mimetype": "text/x-python",
   "name": "python",
   "nbconvert_exporter": "python",
   "pygments_lexer": "ipython3",
   "version": "3.7.9"
  },
  "orig_nbformat": 2,
  "kernelspec": {
   "name": "python379jvsc74a57bd000603a2c3e8eb17b83d7fca558293375879bba6e0cc7e84ab094aaf79e0fa4fb",
   "display_name": "Python 3.7.9 64-bit ('pythondata': conda)"
  }
 },
 "nbformat": 4,
 "nbformat_minor": 2,
 "cells": [
  {
   "cell_type": "code",
   "execution_count": 1,
   "metadata": {},
   "outputs": [],
   "source": [
    "# Module used to connect Python with MongoDb\n",
    "import pymongo\n",
    "import pandas as pd\n",
    "# The default port used by MongoDB is 27017\n",
    "conn = \"mongodb://localhost:27017\"\n",
    "client = pymongo.MongoClient(conn)"
   ]
  },
  {
   "cell_type": "code",
   "execution_count": 3,
   "metadata": {
    "tags": []
   },
   "outputs": [
    {
     "output_type": "execute_result",
     "data": {
      "text/plain": [
       "<pymongo.results.InsertManyResult at 0x17d79292548>"
      ]
     },
     "metadata": {},
     "execution_count": 3
    }
   ],
   "source": [
    "db = client[\"BrazilVideoGames\"]\n",
    "# Creating a new collection with name \"videoGameSales\"\n",
    "collection_vg = db[\"BrazilVideoGames\"]\n",
    "\n",
    "def csv_to_json(filename, header = None):\n",
    "    data = pd.read_csv(filename, header=header)\n",
    "    return data.to_dict('records')\n",
    "\n",
    "collection_vg.insert_many(csv_to_json('data_files2/final_data1.csv', header = 0))"
   ]
  },
  {
   "cell_type": "code",
   "execution_count": null,
   "metadata": {},
   "outputs": [],
   "source": []
  }
 ]
}