{
 "metadata": {
  "language_info": {
   "codemirror_mode": {
    "name": "ipython",
    "version": 3
   },
   "file_extension": ".py",
   "mimetype": "text/x-python",
   "name": "python",
   "nbconvert_exporter": "python",
   "pygments_lexer": "ipython3",
   "version": "3.7.9"
  },
  "orig_nbformat": 2,
  "kernelspec": {
   "name": "python379jvsc74a57bd000603a2c3e8eb17b83d7fca558293375879bba6e0cc7e84ab094aaf79e0fa4fb",
   "display_name": "Python 3.7.9 64-bit ('pythondata': conda)"
  }
 },
 "nbformat": 4,
 "nbformat_minor": 2,
 "cells": [
  {
   "cell_type": "code",
   "execution_count": 1,
   "metadata": {},
   "outputs": [],
   "source": [
    "# import dependencies\n",
    "import pandas as pd"
   ]
  },
  {
   "cell_type": "code",
   "execution_count": 3,
   "metadata": {},
   "outputs": [
    {
     "output_type": "execute_result",
     "data": {
      "text/plain": [
       "   Unnamed: 0       time  Rank  \\\n",
       "0           0  7/31/2020     1   \n",
       "1           1  7/31/2020     2   \n",
       "2           3  7/31/2020     4   \n",
       "3           5  7/31/2020     6   \n",
       "4           6  7/31/2020     7   \n",
       "\n",
       "                                       Product Names Authors/Company  \\\n",
       "0       Controle Dualshock 4 - PlayStation 4 - Preto     PlayStation   \n",
       "1    Death Stranding - Edição Padrão - PlayStation 4     Playstation   \n",
       "2  Horizon Zero Dawn Complete Edition Hits - Play...     Playstation   \n",
       "3  The Last of Us Part II - Edição  Padrão - Play...     Playstation   \n",
       "4    Ghost Of Tsushima Edição Padrão - PlayStation 4     Playstation   \n",
       "\n",
       "   Price_std_or_min  \n",
       "0            269.90  \n",
       "1             78.90  \n",
       "2             53.90  \n",
       "3            246.39  \n",
       "4            246.39  "
      ],
      "text/html": "<div>\n<style scoped>\n    .dataframe tbody tr th:only-of-type {\n        vertical-align: middle;\n    }\n\n    .dataframe tbody tr th {\n        vertical-align: top;\n    }\n\n    .dataframe thead th {\n        text-align: right;\n    }\n</style>\n<table border=\"1\" class=\"dataframe\">\n  <thead>\n    <tr style=\"text-align: right;\">\n      <th></th>\n      <th>Unnamed: 0</th>\n      <th>time</th>\n      <th>Rank</th>\n      <th>Product Names</th>\n      <th>Authors/Company</th>\n      <th>Price_std_or_min</th>\n    </tr>\n  </thead>\n  <tbody>\n    <tr>\n      <th>0</th>\n      <td>0</td>\n      <td>7/31/2020</td>\n      <td>1</td>\n      <td>Controle Dualshock 4 - PlayStation 4 - Preto</td>\n      <td>PlayStation</td>\n      <td>269.90</td>\n    </tr>\n    <tr>\n      <th>1</th>\n      <td>1</td>\n      <td>7/31/2020</td>\n      <td>2</td>\n      <td>Death Stranding - Edição Padrão - PlayStation 4</td>\n      <td>Playstation</td>\n      <td>78.90</td>\n    </tr>\n    <tr>\n      <th>2</th>\n      <td>3</td>\n      <td>7/31/2020</td>\n      <td>4</td>\n      <td>Horizon Zero Dawn Complete Edition Hits - Play...</td>\n      <td>Playstation</td>\n      <td>53.90</td>\n    </tr>\n    <tr>\n      <th>3</th>\n      <td>5</td>\n      <td>7/31/2020</td>\n      <td>6</td>\n      <td>The Last of Us Part II - Edição  Padrão - Play...</td>\n      <td>Playstation</td>\n      <td>246.39</td>\n    </tr>\n    <tr>\n      <th>4</th>\n      <td>6</td>\n      <td>7/31/2020</td>\n      <td>7</td>\n      <td>Ghost Of Tsushima Edição Padrão - PlayStation 4</td>\n      <td>Playstation</td>\n      <td>246.39</td>\n    </tr>\n  </tbody>\n</table>\n</div>"
     },
     "metadata": {},
     "execution_count": 3
    }
   ],
   "source": [
    "# load in .csv files as data frames\n",
    "brazil_sales = pd.read_csv(\"data_files2/brazil_sales_ps.csv\")\n",
    "brazil_sales.head()"
   ]
  },
  {
   "cell_type": "code",
   "execution_count": 5,
   "metadata": {},
   "outputs": [],
   "source": [
    "#set dataframe to csv\n",
    "brazil_sales.to_csv(\"data_files2/final_data1.csv\", index=None)"
   ]
  },
  {
   "cell_type": "code",
   "execution_count": null,
   "metadata": {},
   "outputs": [],
   "source": []
  }
 ]
}